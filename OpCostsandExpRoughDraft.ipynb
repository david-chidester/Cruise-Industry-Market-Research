{
 "cells": [
  {
   "cell_type": "code",
   "execution_count": 1,
   "metadata": {},
   "outputs": [],
   "source": [
    "import numpy as np\n",
    "import matplotlib.pyplot as plt"
   ]
  },
  {
   "cell_type": "code",
   "execution_count": 2,
   "metadata": {},
   "outputs": [],
   "source": [
    "import pandas as pd"
   ]
  },
  {
   "cell_type": "code",
   "execution_count": 4,
   "metadata": {},
   "outputs": [
    {
     "data": {
      "text/html": [
       "<div>\n",
       "<style scoped>\n",
       "    .dataframe tbody tr th:only-of-type {\n",
       "        vertical-align: middle;\n",
       "    }\n",
       "\n",
       "    .dataframe tbody tr th {\n",
       "        vertical-align: top;\n",
       "    }\n",
       "\n",
       "    .dataframe thead th {\n",
       "        text-align: right;\n",
       "    }\n",
       "</style>\n",
       "<table border=\"1\" class=\"dataframe\">\n",
       "  <thead>\n",
       "    <tr style=\"text-align: right;\">\n",
       "      <th></th>\n",
       "      <th>Year</th>\n",
       "      <th>RevMil</th>\n",
       "      <th>GProfitMil</th>\n",
       "      <th>OpIncMil</th>\n",
       "      <th>EBITDAMil</th>\n",
       "      <th>NetIncMil</th>\n",
       "      <th>EarningPerShare</th>\n",
       "      <th>SharesOutMil</th>\n",
       "      <th>AvgStkPrice</th>\n",
       "      <th>YearOpen</th>\n",
       "      <th>YearHigh</th>\n",
       "      <th>YearLow</th>\n",
       "      <th>YearClose</th>\n",
       "      <th>AnnPerChg</th>\n",
       "    </tr>\n",
       "  </thead>\n",
       "  <tbody>\n",
       "    <tr>\n",
       "      <th>0</th>\n",
       "      <td>2018</td>\n",
       "      <td>18881</td>\n",
       "      <td>7791</td>\n",
       "      <td>3324</td>\n",
       "      <td>5341</td>\n",
       "      <td>3152</td>\n",
       "      <td>4.44</td>\n",
       "      <td>710</td>\n",
       "      <td>60.7217</td>\n",
       "      <td>64.1750</td>\n",
       "      <td>69.1647</td>\n",
       "      <td>45.8169</td>\n",
       "      <td>48.8806</td>\n",
       "      <td>-23.40</td>\n",
       "    </tr>\n",
       "    <tr>\n",
       "      <th>1</th>\n",
       "      <td>2017</td>\n",
       "      <td>17510</td>\n",
       "      <td>7009</td>\n",
       "      <td>2809</td>\n",
       "      <td>4655</td>\n",
       "      <td>2606</td>\n",
       "      <td>3.59</td>\n",
       "      <td>725</td>\n",
       "      <td>59.6774</td>\n",
       "      <td>48.8753</td>\n",
       "      <td>66.3526</td>\n",
       "      <td>48.8753</td>\n",
       "      <td>63.8096</td>\n",
       "      <td>30.76</td>\n",
       "    </tr>\n",
       "    <tr>\n",
       "      <th>2</th>\n",
       "      <td>2016</td>\n",
       "      <td>16389</td>\n",
       "      <td>7006</td>\n",
       "      <td>3071</td>\n",
       "      <td>4809</td>\n",
       "      <td>2779</td>\n",
       "      <td>3.72</td>\n",
       "      <td>747</td>\n",
       "      <td>44.7539</td>\n",
       "      <td>49.4207</td>\n",
       "      <td>50.0001</td>\n",
       "      <td>38.2235</td>\n",
       "      <td>48.8003</td>\n",
       "      <td>-1.76</td>\n",
       "    </tr>\n",
       "    <tr>\n",
       "      <th>3</th>\n",
       "      <td>2015</td>\n",
       "      <td>15714</td>\n",
       "      <td>6267</td>\n",
       "      <td>2574</td>\n",
       "      <td>4200</td>\n",
       "      <td>1757</td>\n",
       "      <td>2.26</td>\n",
       "      <td>779</td>\n",
       "      <td>43.9725</td>\n",
       "      <td>40.6589</td>\n",
       "      <td>50.2778</td>\n",
       "      <td>38.0202</td>\n",
       "      <td>49.6760</td>\n",
       "      <td>22.93</td>\n",
       "    </tr>\n",
       "    <tr>\n",
       "      <th>4</th>\n",
       "      <td>2014</td>\n",
       "      <td>15884</td>\n",
       "      <td>5463</td>\n",
       "      <td>1772</td>\n",
       "      <td>3409</td>\n",
       "      <td>1216</td>\n",
       "      <td>1.56</td>\n",
       "      <td>778</td>\n",
       "      <td>34.5834</td>\n",
       "      <td>34.6036</td>\n",
       "      <td>40.9620</td>\n",
       "      <td>30.0218</td>\n",
       "      <td>40.4093</td>\n",
       "      <td>15.73</td>\n",
       "    </tr>\n",
       "    <tr>\n",
       "      <th>5</th>\n",
       "      <td>2013</td>\n",
       "      <td>15456</td>\n",
       "      <td>4811</td>\n",
       "      <td>1329</td>\n",
       "      <td>2919</td>\n",
       "      <td>1055</td>\n",
       "      <td>1.36</td>\n",
       "      <td>777</td>\n",
       "      <td>30.4291</td>\n",
       "      <td>31.6837</td>\n",
       "      <td>34.9165</td>\n",
       "      <td>27.2766</td>\n",
       "      <td>34.9165</td>\n",
       "      <td>12.39</td>\n",
       "    </tr>\n",
       "    <tr>\n",
       "      <th>6</th>\n",
       "      <td>2012</td>\n",
       "      <td>15382</td>\n",
       "      <td>5062</td>\n",
       "      <td>1642</td>\n",
       "      <td>3169</td>\n",
       "      <td>1298</td>\n",
       "      <td>1.67</td>\n",
       "      <td>779</td>\n",
       "      <td>28.0352</td>\n",
       "      <td>26.6686</td>\n",
       "      <td>33.2215</td>\n",
       "      <td>23.9499</td>\n",
       "      <td>31.0670</td>\n",
       "      <td>17.63</td>\n",
       "    </tr>\n",
       "    <tr>\n",
       "      <th>7</th>\n",
       "      <td>2011</td>\n",
       "      <td>15793</td>\n",
       "      <td>5494</td>\n",
       "      <td>2255</td>\n",
       "      <td>3777</td>\n",
       "      <td>1912</td>\n",
       "      <td>2.42</td>\n",
       "      <td>789</td>\n",
       "      <td>29.3891</td>\n",
       "      <td>36.8551</td>\n",
       "      <td>37.6739</td>\n",
       "      <td>23.4314</td>\n",
       "      <td>26.4097</td>\n",
       "      <td>-27.25</td>\n",
       "    </tr>\n",
       "    <tr>\n",
       "      <th>8</th>\n",
       "      <td>2010</td>\n",
       "      <td>14469</td>\n",
       "      <td>5377</td>\n",
       "      <td>2347</td>\n",
       "      <td>3763</td>\n",
       "      <td>1978</td>\n",
       "      <td>2.47</td>\n",
       "      <td>805</td>\n",
       "      <td>29.1765</td>\n",
       "      <td>24.9644</td>\n",
       "      <td>36.6819</td>\n",
       "      <td>23.6019</td>\n",
       "      <td>36.3039</td>\n",
       "      <td>47.12</td>\n",
       "    </tr>\n",
       "    <tr>\n",
       "      <th>9</th>\n",
       "      <td>2009</td>\n",
       "      <td>13460</td>\n",
       "      <td>5053</td>\n",
       "      <td>2154</td>\n",
       "      <td>3463</td>\n",
       "      <td>1790</td>\n",
       "      <td>2.24</td>\n",
       "      <td>804</td>\n",
       "      <td>21.0851</td>\n",
       "      <td>19.8952</td>\n",
       "      <td>26.4361</td>\n",
       "      <td>13.2219</td>\n",
       "      <td>24.6763</td>\n",
       "      <td>30.30</td>\n",
       "    </tr>\n",
       "    <tr>\n",
       "      <th>10</th>\n",
       "      <td>2008</td>\n",
       "      <td>14947</td>\n",
       "      <td>5607</td>\n",
       "      <td>2729</td>\n",
       "      <td>3978</td>\n",
       "      <td>2324</td>\n",
       "      <td>2.90</td>\n",
       "      <td>816</td>\n",
       "      <td>26.3711</td>\n",
       "      <td>32.1680</td>\n",
       "      <td>32.9932</td>\n",
       "      <td>11.6957</td>\n",
       "      <td>18.9374</td>\n",
       "      <td>-42.23</td>\n",
       "    </tr>\n",
       "    <tr>\n",
       "      <th>11</th>\n",
       "      <td>2007</td>\n",
       "      <td>13033</td>\n",
       "      <td>5405</td>\n",
       "      <td>2725</td>\n",
       "      <td>3826</td>\n",
       "      <td>2408</td>\n",
       "      <td>2.95</td>\n",
       "      <td>828</td>\n",
       "      <td>34.3366</td>\n",
       "      <td>36.4383</td>\n",
       "      <td>37.4746</td>\n",
       "      <td>31.1144</td>\n",
       "      <td>32.7795</td>\n",
       "      <td>-6.56</td>\n",
       "    </tr>\n",
       "    <tr>\n",
       "      <th>12</th>\n",
       "      <td>2006</td>\n",
       "      <td>11839</td>\n",
       "      <td>5048</td>\n",
       "      <td>2613</td>\n",
       "      <td>3601</td>\n",
       "      <td>2279</td>\n",
       "      <td>2.77</td>\n",
       "      <td>836</td>\n",
       "      <td>32.6249</td>\n",
       "      <td>38.1480</td>\n",
       "      <td>39.0777</td>\n",
       "      <td>25.7282</td>\n",
       "      <td>35.0794</td>\n",
       "      <td>-6.15</td>\n",
       "    </tr>\n",
       "    <tr>\n",
       "      <th>13</th>\n",
       "      <td>2005</td>\n",
       "      <td>11094</td>\n",
       "      <td>4876</td>\n",
       "      <td>2639</td>\n",
       "      <td>3561</td>\n",
       "      <td>2253</td>\n",
       "      <td>2.70</td>\n",
       "      <td>853</td>\n",
       "      <td>36.3683</td>\n",
       "      <td>39.4591</td>\n",
       "      <td>40.2440</td>\n",
       "      <td>32.3869</td>\n",
       "      <td>37.3790</td>\n",
       "      <td>-5.80</td>\n",
       "    </tr>\n",
       "  </tbody>\n",
       "</table>\n",
       "</div>"
      ],
      "text/plain": [
       "    Year  RevMil  GProfitMil  OpIncMil  EBITDAMil  NetIncMil  EarningPerShare  \\\n",
       "0   2018   18881        7791      3324       5341       3152             4.44   \n",
       "1   2017   17510        7009      2809       4655       2606             3.59   \n",
       "2   2016   16389        7006      3071       4809       2779             3.72   \n",
       "3   2015   15714        6267      2574       4200       1757             2.26   \n",
       "4   2014   15884        5463      1772       3409       1216             1.56   \n",
       "5   2013   15456        4811      1329       2919       1055             1.36   \n",
       "6   2012   15382        5062      1642       3169       1298             1.67   \n",
       "7   2011   15793        5494      2255       3777       1912             2.42   \n",
       "8   2010   14469        5377      2347       3763       1978             2.47   \n",
       "9   2009   13460        5053      2154       3463       1790             2.24   \n",
       "10  2008   14947        5607      2729       3978       2324             2.90   \n",
       "11  2007   13033        5405      2725       3826       2408             2.95   \n",
       "12  2006   11839        5048      2613       3601       2279             2.77   \n",
       "13  2005   11094        4876      2639       3561       2253             2.70   \n",
       "\n",
       "    SharesOutMil  AvgStkPrice  YearOpen  YearHigh  YearLow  YearClose  \\\n",
       "0            710      60.7217   64.1750   69.1647  45.8169    48.8806   \n",
       "1            725      59.6774   48.8753   66.3526  48.8753    63.8096   \n",
       "2            747      44.7539   49.4207   50.0001  38.2235    48.8003   \n",
       "3            779      43.9725   40.6589   50.2778  38.0202    49.6760   \n",
       "4            778      34.5834   34.6036   40.9620  30.0218    40.4093   \n",
       "5            777      30.4291   31.6837   34.9165  27.2766    34.9165   \n",
       "6            779      28.0352   26.6686   33.2215  23.9499    31.0670   \n",
       "7            789      29.3891   36.8551   37.6739  23.4314    26.4097   \n",
       "8            805      29.1765   24.9644   36.6819  23.6019    36.3039   \n",
       "9            804      21.0851   19.8952   26.4361  13.2219    24.6763   \n",
       "10           816      26.3711   32.1680   32.9932  11.6957    18.9374   \n",
       "11           828      34.3366   36.4383   37.4746  31.1144    32.7795   \n",
       "12           836      32.6249   38.1480   39.0777  25.7282    35.0794   \n",
       "13           853      36.3683   39.4591   40.2440  32.3869    37.3790   \n",
       "\n",
       "    AnnPerChg  \n",
       "0      -23.40  \n",
       "1       30.76  \n",
       "2       -1.76  \n",
       "3       22.93  \n",
       "4       15.73  \n",
       "5       12.39  \n",
       "6       17.63  \n",
       "7      -27.25  \n",
       "8       47.12  \n",
       "9       30.30  \n",
       "10     -42.23  \n",
       "11      -6.56  \n",
       "12      -6.15  \n",
       "13      -5.80  "
      ]
     },
     "execution_count": 4,
     "metadata": {},
     "output_type": "execute_result"
    }
   ],
   "source": [
    "objname"
   ]
  },
  {
   "cell_type": "code",
   "execution_count": 3,
   "metadata": {},
   "outputs": [],
   "source": [
    "objname = pd.read_csv(\"AFS.csv\")"
   ]
  },
  {
   "cell_type": "code",
   "execution_count": 7,
   "metadata": {},
   "outputs": [
    {
     "name": "stdout",
     "output_type": "stream",
     "text": [
      " Volume in drive C is Local Disk\n",
      " Volume Serial Number is 18D4-940E\n",
      "\n",
      " Directory of C:\\Users\\amsol\\Documents\\THermoFleet\n",
      "\n",
      "08/21/2019  10:35 AM    <DIR>          .\n",
      "08/21/2019  10:35 AM    <DIR>          ..\n",
      "08/20/2019  08:09 PM    <DIR>          .ipynb_checkpoints\n",
      "08/20/2019  02:28 PM             1,348 AFS.csv\n",
      "08/20/2019  02:55 PM               191 Annual_Revenue.csv\n",
      "08/19/2019  10:01 AM             3,258 gender_submission.csv\n",
      "08/20/2019  02:25 PM             3,163 QFS.csv\n",
      "08/20/2019  02:55 PM             1,017 Quarterly_Revenue.csv\n",
      "08/20/2019  01:00 PM        62,437,246 Ship Maintenance Data.xlsx\n",
      "08/21/2019  10:13 AM               612 Steps for Jupyter.txt\n",
      "08/19/2019  10:01 AM            28,629 test.csv\n",
      "08/21/2019  10:31 AM           125,199 test2.ipynb\n",
      "08/19/2019  10:02 AM    <DIR>          titanic-master\n",
      "08/19/2019  10:01 AM            61,194 train.csv\n",
      "08/21/2019  10:35 AM            21,007 Untitled.ipynb\n",
      "              11 File(s)     62,682,864 bytes\n",
      "               4 Dir(s)   1,502,019,584 bytes free\n"
     ]
    }
   ],
   "source": [
    "ls\n"
   ]
  },
  {
   "cell_type": "code",
   "execution_count": 8,
   "metadata": {},
   "outputs": [],
   "source": [
    "OpCost = pd.read_csv(\"Operating Costs and Expenses.csv\")"
   ]
  },
  {
   "cell_type": "code",
   "execution_count": 9,
   "metadata": {},
   "outputs": [
    {
     "data": {
      "text/html": [
       "<div>\n",
       "<style scoped>\n",
       "    .dataframe tbody tr th:only-of-type {\n",
       "        vertical-align: middle;\n",
       "    }\n",
       "\n",
       "    .dataframe tbody tr th {\n",
       "        vertical-align: top;\n",
       "    }\n",
       "\n",
       "    .dataframe thead th {\n",
       "        text-align: right;\n",
       "    }\n",
       "</style>\n",
       "<table border=\"1\" class=\"dataframe\">\n",
       "  <thead>\n",
       "    <tr style=\"text-align: right;\">\n",
       "      <th></th>\n",
       "      <th>Year</th>\n",
       "      <th>Commissions, Transportation, and Other ($)</th>\n",
       "      <th>Onboard and Other ($)</th>\n",
       "      <th>Payroll and Related ($)</th>\n",
       "      <th>Fuel ($)</th>\n",
       "      <th>Food ($)</th>\n",
       "      <th>Other Ship Operating ($)</th>\n",
       "      <th>Tour and Other ($)</th>\n",
       "      <th>Selling and Administrative ($)</th>\n",
       "      <th>Depreciation and Amortization ($)</th>\n",
       "      <th>Goodwill and Trademark Impairment ($)</th>\n",
       "      <th>Total</th>\n",
       "    </tr>\n",
       "  </thead>\n",
       "  <tbody>\n",
       "    <tr>\n",
       "      <th>0</th>\n",
       "      <td>2016</td>\n",
       "      <td>2240</td>\n",
       "      <td>553</td>\n",
       "      <td>1993</td>\n",
       "      <td>915</td>\n",
       "      <td>1005</td>\n",
       "      <td>2525</td>\n",
       "      <td>152</td>\n",
       "      <td>2197</td>\n",
       "      <td>1738</td>\n",
       "      <td>0</td>\n",
       "      <td>13318</td>\n",
       "    </tr>\n",
       "    <tr>\n",
       "      <th>1</th>\n",
       "      <td>2017</td>\n",
       "      <td>2359</td>\n",
       "      <td>587</td>\n",
       "      <td>2107</td>\n",
       "      <td>1244</td>\n",
       "      <td>1031</td>\n",
       "      <td>3010</td>\n",
       "      <td>163</td>\n",
       "      <td>2265</td>\n",
       "      <td>1846</td>\n",
       "      <td>89</td>\n",
       "      <td>14701</td>\n",
       "    </tr>\n",
       "    <tr>\n",
       "      <th>2</th>\n",
       "      <td>2018</td>\n",
       "      <td>2590</td>\n",
       "      <td>638</td>\n",
       "      <td>2190</td>\n",
       "      <td>1619</td>\n",
       "      <td>1066</td>\n",
       "      <td>2807</td>\n",
       "      <td>180</td>\n",
       "      <td>2450</td>\n",
       "      <td>2017</td>\n",
       "      <td>0</td>\n",
       "      <td>15556</td>\n",
       "    </tr>\n",
       "  </tbody>\n",
       "</table>\n",
       "</div>"
      ],
      "text/plain": [
       "   Year  Commissions, Transportation, and Other ($)  Onboard and Other ($)  \\\n",
       "0  2016                                        2240                    553   \n",
       "1  2017                                        2359                    587   \n",
       "2  2018                                        2590                    638   \n",
       "\n",
       "   Payroll and Related ($)  Fuel ($)  Food ($)  Other Ship Operating ($)  \\\n",
       "0                     1993       915      1005                      2525   \n",
       "1                     2107      1244      1031                      3010   \n",
       "2                     2190      1619      1066                      2807   \n",
       "\n",
       "   Tour and Other ($)  Selling and Administrative ($)  \\\n",
       "0                 152                            2197   \n",
       "1                 163                            2265   \n",
       "2                 180                            2450   \n",
       "\n",
       "   Depreciation and Amortization ($)  Goodwill and Trademark Impairment ($)  \\\n",
       "0                               1738                                      0   \n",
       "1                               1846                                     89   \n",
       "2                               2017                                      0   \n",
       "\n",
       "   Total  \n",
       "0  13318  \n",
       "1  14701  \n",
       "2  15556  "
      ]
     },
     "execution_count": 9,
     "metadata": {},
     "output_type": "execute_result"
    }
   ],
   "source": [
    "OpCost\n"
   ]
  },
  {
   "cell_type": "code",
   "execution_count": 11,
   "metadata": {},
   "outputs": [],
   "source": [
    "OpCostdf = pd.DataFrame(OpCost)"
   ]
  },
  {
   "cell_type": "code",
   "execution_count": 13,
   "metadata": {},
   "outputs": [
    {
     "data": {
      "text/plain": [
       "<matplotlib.axes._subplots.AxesSubplot at 0x1ca0c1c0438>"
      ]
     },
     "execution_count": 13,
     "metadata": {},
     "output_type": "execute_result"
    },
    {
     "data": {
      "image/png": "[encoded data removed]",
      "text/plain": [
       "<Figure size 432x288 with 1 Axes>"
      ]
     },
     "metadata": {
      "needs_background": "light"
     },
     "output_type": "display_data"
    }
   ],
   "source": [
    "OpCostdf.plot(x='Year', y='Total', style='-')"
   ]
  },
  {
   "cell_type": "code",
   "execution_count": 14,
   "metadata": {},
   "outputs": [],
   "source": [
    "import pylab as plb"
   ]
  },
  {
   "cell_type": "code",
   "execution_count": 15,
   "metadata": {},
   "outputs": [],
   "source": [
    "Tot = np.linspace(0, 10, 20)"
   ]
  },
  {
   "cell_type": "code",
   "execution_count": 16,
   "metadata": {},
   "outputs": [
    {
     "data": {
      "text/plain": [
       "array([ 0.        ,  0.52631579,  1.05263158,  1.57894737,  2.10526316,\n",
       "        2.63157895,  3.15789474,  3.68421053,  4.21052632,  4.73684211,\n",
       "        5.26315789,  5.78947368,  6.31578947,  6.84210526,  7.36842105,\n",
       "        7.89473684,  8.42105263,  8.94736842,  9.47368421, 10.        ])"
      ]
     },
     "execution_count": 16,
     "metadata": {},
     "output_type": "execute_result"
    }
   ],
   "source": [
    "Tot\n"
   ]
  },
  {
   "cell_type": "code",
   "execution_count": 17,
   "metadata": {},
   "outputs": [],
   "source": [
    "Test2=[1,2,3,4]"
   ]
  },
  {
   "cell_type": "code",
   "execution_count": 18,
   "metadata": {},
   "outputs": [
    {
     "data": {
      "text/plain": [
       "[1, 2, 3, 4]"
      ]
     },
     "execution_count": 18,
     "metadata": {},
     "output_type": "execute_result"
    }
   ],
   "source": [
    "Test2"
   ]
  },
  {
   "cell_type": "code",
   "execution_count": 21,
   "metadata": {},
   "outputs": [
    {
     "ename": "NameError",
     "evalue": "name 'Total' is not defined",
     "output_type": "error",
     "traceback": [
      "\u001b[1;31m---------------------------------------------------------------------------\u001b[0m",
      "\u001b[1;31mNameError\u001b[0m                                 Traceback (most recent call last)",
      "\u001b[1;32m<ipython-input-21-a5d4330facea>\u001b[0m in \u001b[0;36m<module>\u001b[1;34m\u001b[0m\n\u001b[1;32m----> 1\u001b[1;33m \u001b[0mTest3\u001b[0m\u001b[1;33m=\u001b[0m\u001b[1;33m[\u001b[0m\u001b[0mTotal\u001b[0m\u001b[1;33m]\u001b[0m\u001b[1;33m\u001b[0m\u001b[1;33m\u001b[0m\u001b[0m\n\u001b[0m",
      "\u001b[1;31mNameError\u001b[0m: name 'Total' is not defined"
     ]
    }
   ],
   "source": [
    "Test3=[Total]"
   ]
  },
  {
   "cell_type": "code",
   "execution_count": 22,
   "metadata": {},
   "outputs": [],
   "source": [
    "Test4=OpCostdf['Total']"
   ]
  },
  {
   "cell_type": "code",
   "execution_count": 23,
   "metadata": {},
   "outputs": [
    {
     "data": {
      "text/plain": [
       "0    13318\n",
       "1    14701\n",
       "2    15556\n",
       "Name: Total, dtype: int64"
      ]
     },
     "execution_count": 23,
     "metadata": {},
     "output_type": "execute_result"
    }
   ],
   "source": [
    "Test4"
   ]
  },
  {
   "cell_type": "code",
   "execution_count": 24,
   "metadata": {},
   "outputs": [
    {
     "ename": "ModuleNotFoundError",
     "evalue": "No module named 'scripy'",
     "output_type": "error",
     "traceback": [
      "\u001b[1;31m---------------------------------------------------------------------------\u001b[0m",
      "\u001b[1;31mModuleNotFoundError\u001b[0m                       Traceback (most recent call last)",
      "\u001b[1;32m<ipython-input-24-c05610595e54>\u001b[0m in \u001b[0;36m<module>\u001b[1;34m\u001b[0m\n\u001b[1;32m----> 1\u001b[1;33m \u001b[1;32mfrom\u001b[0m \u001b[0mscripy\u001b[0m\u001b[1;33m.\u001b[0m\u001b[0mstats\u001b[0m \u001b[1;32mimport\u001b[0m \u001b[0mlinregress\u001b[0m\u001b[1;33m\u001b[0m\u001b[1;33m\u001b[0m\u001b[0m\n\u001b[0m",
      "\u001b[1;31mModuleNotFoundError\u001b[0m: No module named 'scripy'"
     ]
    }
   ],
   "source": [
    "from scripy.stats import linregress"
   ]
  },
  {
   "cell_type": "code",
   "execution_count": 25,
   "metadata": {},
   "outputs": [],
   "source": [
    "import scipy as sc"
   ]
  },
  {
   "cell_type": "code",
   "execution_count": 27,
   "metadata": {},
   "outputs": [],
   "source": [
    "from scipy.stats import linregress"
   ]
  },
  {
   "cell_type": "code",
   "execution_count": 28,
   "metadata": {},
   "outputs": [],
   "source": [
    "Test5=OpCostdf['Year']"
   ]
  },
  {
   "cell_type": "code",
   "execution_count": 30,
   "metadata": {},
   "outputs": [
    {
     "data": {
      "text/plain": [
       "LinregressResult(slope=1119.0, intercept=-2242498.0, rvalue=0.9908503611587666, pvalue=0.08618442530386868, stderr=152.42047106606088)"
      ]
     },
     "execution_count": 30,
     "metadata": {},
     "output_type": "execute_result"
    }
   ],
   "source": [
    "linregress(Test5, Test4)"
   ]
  },
  {
   "cell_type": "code",
   "execution_count": 31,
   "metadata": {},
   "outputs": [
    {
     "ename": "NameError",
     "evalue": "name 'slope' is not defined",
     "output_type": "error",
     "traceback": [
      "\u001b[1;31m---------------------------------------------------------------------------\u001b[0m",
      "\u001b[1;31mNameError\u001b[0m                                 Traceback (most recent call last)",
      "\u001b[1;32m<ipython-input-31-723ae6e1a610>\u001b[0m in \u001b[0;36m<module>\u001b[1;34m\u001b[0m\n\u001b[1;32m----> 1\u001b[1;33m \u001b[0mslope\u001b[0m\u001b[1;33m\u001b[0m\u001b[1;33m\u001b[0m\u001b[0m\n\u001b[0m",
      "\u001b[1;31mNameError\u001b[0m: name 'slope' is not defined"
     ]
    }
   ],
   "source": [
    "slope"
   ]
  },
  {
   "cell_type": "code",
   "execution_count": 33,
   "metadata": {},
   "outputs": [
    {
     "data": {
      "text/plain": [
       "<matplotlib.axes._subplots.AxesSubplot at 0x1ca0d0de748>"
      ]
     },
     "execution_count": 33,
     "metadata": {},
     "output_type": "execute_result"
    },
    {
     "data": {
      "image/png": "[encoded data removed]",
      "text/plain": [
       "<Figure size 432x288 with 1 Axes>"
      ]
     },
     "metadata": {
      "needs_background": "light"
     },
     "output_type": "display_data"
    }
   ],
   "source": [
    "OpCostdf.plot(x='Year', y='Fuel ($)', style='-')"
   ]
  },
  {
   "cell_type": "code",
   "execution_count": null,
   "metadata": {},
   "outputs": [],
   "source": []
  }
 ],
 "metadata": {
  "kernelspec": {
   "display_name": "Python 3",
   "language": "python",
   "name": "python3"
  },
  "language_info": {
   "codemirror_mode": {
    "name": "ipython",
    "version": 3
   },
   "file_extension": ".py",
   "mimetype": "text/x-python",
   "name": "python",
   "nbconvert_exporter": "python",
   "pygments_lexer": "ipython3",
   "version": "3.7.3"
  }
 },
 "nbformat": 4,
 "nbformat_minor": 2
}
