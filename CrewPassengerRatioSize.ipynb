{
 "cells": [
  {
   "cell_type": "code",
   "execution_count": 1,
   "metadata": {},
   "outputs": [],
   "source": [
    "# Importing the libraries \n",
    "import numpy as np \n",
    "import matplotlib.pyplot as plt \n",
    "import pandas as pd \n",
    "from sklearn.linear_model import LinearRegression"
   ]
  },
  {
   "cell_type": "code",
   "execution_count": 6,
   "metadata": {},
   "outputs": [
    {
     "name": "stdout",
     "output_type": "stream",
     "text": [
      "         Ship Name      Cruise Line  Ag     Tons   Pass   Leng  Cabin  P Den  \\\n",
      "0            Quest          Azamara   6   30.277   6.94   5.94   3.55  42.64   \n",
      "1      Celebration         Carnival  26   47.262  14.86   7.22   7.43  31.80   \n",
      "2         Conquest         Carnival  11  110.000  29.74   9.53  14.88  36.99   \n",
      "3          Destiny         Carnival  17  101.353  26.42   8.92  13.21  38.36   \n",
      "4          Ecstasy         Carnival  22   70.367  20.52   8.55  10.20  34.29   \n",
      "5          Elation         Carnival  15   70.367  20.52   8.55  10.20  34.29   \n",
      "6          Fantasy         Carnival  23   70.367  20.56   8.55  10.22  34.23   \n",
      "7      Fascination         Carnival  19   70.367  20.52   8.55  10.20  34.29   \n",
      "8          Freedom         Carnival   6  110.239  37.00   9.51  14.87  29.79   \n",
      "9            Glory         Carnival  10  110.000  29.74   9.51  14.87  36.99   \n",
      "10         Holiday         Carnival  28   46.052  14.52   7.27   7.26  31.72   \n",
      "11     Imagination         Carnival  18   70.367  20.52   8.55  10.20  34.29   \n",
      "12     Inspiration         Carnival  17   70.367  20.52   8.55  10.20  34.29   \n",
      "13          Legend         Carnival  11   86.000  21.24   9.63  10.62  40.49   \n",
      "14        Liberty*         Carnival   8  110.000  29.74   9.51  14.87  36.99   \n",
      "15         Miracle         Carnival   9   88.500  21.24   9.63  10.62  41.67   \n",
      "16        Paradise         Carnival  15   70.367  20.52   8.55  10.20  34.29   \n",
      "17           Pride         Carnival  12   88.500  21.24   9.63  11.62  41.67   \n",
      "18       Sensation         Carnival  20   70.367  20.52   8.55  10.20  34.29   \n",
      "19          Spirit         Carnival  12   88.500  21.24   9.63  10.56  41.67   \n",
      "20         Triumph         Carnival  14  101.509  27.58   8.93  13.21  36.81   \n",
      "21           Valor         Carnival   9  110.000  29.74   9.52  14.87  36.99   \n",
      "22         Victory         Carnival  13  101.509  27.58   8.93  13.79  36.81   \n",
      "23         Century        Celebrity  18   70.606  17.70   8.15   8.75  39.89   \n",
      "24   Constellation        Celebrity  11   91.000  20.32   9.65   9.75  44.78   \n",
      "25          Galaxy        Celebrity  17   77.713  18.90   8.66   9.35  41.12   \n",
      "26        Infinity        Celebrity  12   91.000  20.32   9.65   9.75  44.78   \n",
      "27         Mercury        Celebrity  16   77.713  18.82   8.66   9.35  41.29   \n",
      "28       Millenium        Celebrity  13   91.000  20.32   9.65   9.75  44.78   \n",
      "29        Solstice        Celebrity   5  122.000  28.50  10.33   6.87  34.57   \n",
      "..             ...              ...  ..      ...    ...    ...    ...    ...   \n",
      "127         Legend  Royal Caribbean  18   70.000  18.00   8.67   9.00  38.89   \n",
      "128        Liberty  Royal Caribbean   6  158.000  43.70  11.25  18.00  36.16   \n",
      "129        Majesty  Royal Caribbean  21   73.941  27.44   8.80  11.75  26.95   \n",
      "130        Mariner  Royal Caribbean  10  138.000  31.14  10.20  15.57  44.32   \n",
      "131        Monarch  Royal Caribbean  22   73.941  27.44   8.80  11.77  30.94   \n",
      "132      Navigator  Royal Caribbean  11  138.000  31.14  10.20  15.57  44.32   \n",
      "133          Oasis  Royal Caribbean   4  220.000  54.00  11.82  27.00  40.74   \n",
      "134       Radiance  Royal Caribbean  12   90.090  25.01   9.62  10.50  36.02   \n",
      "135       Rhapsody  Royal Caribbean  16   78.491  24.35   9.15  10.00  32.23   \n",
      "136       Serenade  Royal Caribbean  10   90.090  25.01   9.62  10.50  36.02   \n",
      "137       Sovreign  Royal Caribbean  25   73.192  28.52   8.80  11.38  25.66   \n",
      "138      Splendour  Royal Caribbean  17   70.000  20.76   8.67   9.02  33.72   \n",
      "139         Vision  Royal Caribbean  15   78.491  24.35   9.15  10.00  32.23   \n",
      "140        Voyager  Royal Caribbean  14  138.000  31.14  10.20  15.57  44.32   \n",
      "141         Legend         Seabourn  21   10.000   2.08   4.40   1.04  48.08   \n",
      "142          Pride         Seabourn  27   10.000   2.08   4.40   1.04  48.08   \n",
      "143         Spirit         Seabourn  24   10.000   2.08   4.40   1.04  48.08   \n",
      "144          Cloud        Silversea  19   16.800   2.96   5.14   1.48  56.76   \n",
      "145         Shadow        Silversea  13   25.000   3.82   5.97   1.94  65.45   \n",
      "146        Whisper        Silversea  12   25.000   3.88   5.97   1.94  64.43   \n",
      "147           Wind        Silversea  19   16.800   2.96   5.14   1.48  56.76   \n",
      "148          Aries             Star  22    3.341   0.66   2.80   0.33  50.62   \n",
      "149         Gemini             Star  21   19.093   8.00   5.37   4.00  23.87   \n",
      "150          Libra             Star  12   42.000  14.80   7.13   7.40  28.38   \n",
      "151         Pisces             Star  24   40.053  12.87   5.79   7.76  31.12   \n",
      "152         Taurus             Star  22    3.341   0.66   2.79   0.33  50.62   \n",
      "153          Virgo             Star  14   76.800  19.60   8.79   9.67  39.18   \n",
      "154         Spirit         Windstar  25    5.350   1.58   4.40   0.74  33.86   \n",
      "155           Star         Windstar  27    5.350   1.67   4.40   0.74  32.04   \n",
      "156           Surf         Windstar  23   14.745   3.08   6.17   1.56  47.87   \n",
      "\n",
      "      Crew  \n",
      "0     3.55  \n",
      "1     6.70  \n",
      "2    19.10  \n",
      "3    10.00  \n",
      "4     9.20  \n",
      "5     9.20  \n",
      "6     9.20  \n",
      "7     9.20  \n",
      "8    11.50  \n",
      "9    11.60  \n",
      "10    6.60  \n",
      "11    9.20  \n",
      "12    9.20  \n",
      "13    9.30  \n",
      "14   11.60  \n",
      "15   10.30  \n",
      "16    9.20  \n",
      "17    9.30  \n",
      "18    9.20  \n",
      "19   10.29  \n",
      "20   10.00  \n",
      "21   11.60  \n",
      "22   11.50  \n",
      "23    8.58  \n",
      "24    9.99  \n",
      "25    9.09  \n",
      "26    9.99  \n",
      "27    9.09  \n",
      "28    9.99  \n",
      "29    6.70  \n",
      "..     ...  \n",
      "127   7.20  \n",
      "128  13.60  \n",
      "129   8.22  \n",
      "130  11.85  \n",
      "131   8.22  \n",
      "132  11.85  \n",
      "133  21.00  \n",
      "134   8.68  \n",
      "135   7.65  \n",
      "136   8.58  \n",
      "137   8.08  \n",
      "138   7.20  \n",
      "139   6.60  \n",
      "140  11.76  \n",
      "141   1.60  \n",
      "142   1.60  \n",
      "143   1.60  \n",
      "144   2.10  \n",
      "145   2.95  \n",
      "146   2.87  \n",
      "147   1.97  \n",
      "148   0.59  \n",
      "149   4.70  \n",
      "150   6.80  \n",
      "151   7.50  \n",
      "152   0.59  \n",
      "153  12.00  \n",
      "154   0.88  \n",
      "155   0.88  \n",
      "156   1.80  \n",
      "\n",
      "[157 rows x 9 columns]\n"
     ]
    }
   ],
   "source": [
    "#Ship Name     1-20\n",
    "#Cruise Line   21-40\n",
    "#Age (as of 2013)   46-48\n",
    "#Tonnage (1000s of tons)   50-56\n",
    "#passengers (100s)   58-64\n",
    "#Length (100s of feet)  66-72\n",
    "#Cabins  (100s)   74-80\n",
    "#Passenger Density   82-88\n",
    "#Crew  (100s)   90-96\n",
    "\n",
    "cruise_ship = pd.read_fwf('cruise_ship.txt', colspecs=[(0,20),(20,40),(45,48),(49,56),(57,64),(65,72),(73,80),(81,88),(89,96)])\n",
    "print(cruise_ship)"
   ]
  },
  {
   "cell_type": "code",
   "execution_count": 8,
   "metadata": {},
   "outputs": [],
   "source": [
    "#Dataframe for cruise ships\n",
    "ShipInfodf = pd.DataFrame(cruise_ship)"
   ]
  },
  {
   "cell_type": "code",
   "execution_count": 9,
   "metadata": {},
   "outputs": [
    {
     "name": "stdout",
     "output_type": "stream",
     "text": [
      "[1.95492958 2.21791045 1.55706806 2.642      2.23043478 2.23043478\n",
      " 2.23478261 2.23043478 3.2173913  2.5637931  2.2        2.23043478\n",
      " 2.23043478 2.28387097 2.5637931  2.06213592 2.23043478 2.28387097\n",
      " 2.23043478 2.06413994 2.758      2.5637931  2.39826087 2.06293706\n",
      " 2.03403403 2.07920792 2.03403403 2.07040704 2.03403403 4.25373134\n",
      " 2.03403403 1.56666667 2.03880597 2.02       2.29782609 2.1102107\n",
      " 2.3490566  2.54681648 2.54681648 2.01558442 2.29782609 2.24\n",
      " 3.48623853 2.51697128 1.69811321 1.72477064 1.94462541 2.09098164\n",
      " 2.22222222 1.85185185 1.85185185 2.3        2.63       2.26929982\n",
      " 2.29056604 2.19477435 1.62826087 2.04968944 2.15306122 2.15306122\n",
      " 2.15306122 2.56684492 2.44117647 2.71186441 2.31       2.23714286\n",
      " 3.01523229 2.22857143 2.3364486  2.58358663 2.2972973  3.20538721\n",
      " 2.06052632 2.23829787 2.03636364 2.84690554 2.15870153 2.04\n",
      " 2.4109589  2.5025     2.144      2.38730159 1.50461538 3.02631579\n",
      " 2.08759124 2.84690554 1.71       1.71       1.71       2.36\n",
      " 2.26467204 2.26538462 2.20470588 2.24       2.37027708 2.9295082\n",
      " 2.36363636 2.19333333 2.58333333 2.16666667 2.15993538 3.15166667\n",
      " 2.50727273 2.34234234 2.19333333 1.83914209 2.28448276 2.30769231\n",
      " 2.15993538 2.16666667 2.16833333 2.16666667 1.84450402 2.69863014\n",
      " 1.57303371 1.51234568 1.51658768 1.56599553 2.6278481  2.94929245\n",
      " 3.01043219 2.56578947 2.64795918 3.21323529 2.56578947 2.67205882\n",
      " 2.87802071 2.5        3.21323529 3.33819951 2.6278481  3.33819951\n",
      " 2.6278481  2.57142857 2.88133641 3.18300654 2.91491841 3.52970297\n",
      " 2.88333333 3.68939394 2.64795918 1.3        1.3        1.3\n",
      " 1.40952381 1.29491525 1.35191638 1.50253807 1.11864407 1.70212766\n",
      " 2.17647059 1.716      1.11864407 1.63333333 1.79545455 1.89772727\n",
      " 1.71111111]\n",
      "[ 594.  722.  953.  892.  855.  855.  855.  855.  951.  951.  727.  855.\n",
      "  855.  963.  951.  963.  855.  963.  855.  963.  893.  952.  893.  815.\n",
      "  965.  866.  965.  866.  965. 1033.  965.  296.  682.  616.  957.  718.\n",
      "  798.  890.  890.  622.  960.  722.  951.  828.  790.  781.  963. 1132.\n",
      "  964.  964.  964.  780.  936.  719.  704.  959.  674.  777.  719.  719.\n",
      "  719.  777.  798.  777.  951.  824. 1093.  823.  669.  961.  763.  541.\n",
      "  823.  615.  965.  754.  965.  965.  567.  853.  921.  708.  879.  674.\n",
      "  853.  754.  594.  594.  594.  578.  935.  754.  886.  856.  853.  900.\n",
      "  951.  964.  951.  856.  951.  951.  951.  951.  964.  593.  803.  754.\n",
      "  951.  856.  951.  856.  593.  436.  709.  560.  513.  670. 1020.  962.\n",
      "  692.  916. 1020. 1112.  916. 1112.  962.  867. 1125.  880. 1020.  880.\n",
      " 1020. 1182.  962.  915.  962.  880.  867.  915. 1020.  440.  440.  440.\n",
      "  514.  597.  597.  514.  280.  537.  713.  579.  279.  879.  440.  440.\n",
      "  617.]\n"
     ]
    }
   ],
   "source": [
    "#creating arrays for Crew and Passenger sections\n",
    "Crew_arr = np.array(ShipInfodf['Crew'])\n",
    "Pass_arr = np.array(ShipInfodf['Pass'])\n",
    "\n",
    "#creating a ratio of Passenger per Crew\n",
    "PCratio = Pass_arr/Crew_arr\n",
    "\n",
    "#creating an array for Length of the ship and adjusting to the accurate length in m\n",
    "Leng_arr = np.array(ShipInfodf['Leng'])\n",
    "Length = Leng_arr*100\n",
    "print(PCratio)\n",
    "print(Length)"
   ]
  },
  {
   "cell_type": "code",
   "execution_count": 11,
   "metadata": {},
   "outputs": [],
   "source": [
    "CarnInfodf = ShipInfodf.loc[ShipInfodf['Cruise Line']=='Carnival']"
   ]
  },
  {
   "cell_type": "code",
   "execution_count": 12,
   "metadata": {},
   "outputs": [
    {
     "name": "stdout",
     "output_type": "stream",
     "text": [
      "[2.21791045 1.55706806 2.642      2.23043478 2.23043478 2.23478261\n",
      " 2.23043478 3.2173913  2.5637931  2.2        2.23043478 2.23043478\n",
      " 2.28387097 2.5637931  2.06213592 2.23043478 2.28387097 2.23043478\n",
      " 2.06413994 2.758      2.5637931  2.39826087]\n",
      "[722. 953. 892. 855. 855. 855. 855. 951. 951. 727. 855. 855. 963. 951.\n",
      " 963. 855. 963. 855. 963. 893. 952. 893.]\n"
     ]
    }
   ],
   "source": [
    "#creatting arrays for Crew and Passenger sections of the Carnival Ships\n",
    "Carn_Crew_arr = np.array(CarnInfodf['Crew'])\n",
    "Carn_Pass_arr = np.array(CarnInfodf['Pass'])\n",
    "\n",
    "#creating a ratio of Passenger per Crew for Carnival\n",
    "Carn_PCratio = Carn_Pass_arr/Carn_Crew_arr\n",
    "\n",
    "#creating an array for Length of the Carnival ships and adjusting to the accurate length in m\n",
    "Carn_Leng_arr = np.array(CarnInfodf['Leng'])\n",
    "Carn_Length = Carn_Leng_arr*100\n",
    "print(Carn_PCratio)\n",
    "print(Carn_Length)"
   ]
  },
  {
   "cell_type": "code",
   "execution_count": 13,
   "metadata": {},
   "outputs": [
    {
     "name": "stdout",
     "output_type": "stream",
     "text": [
      "[ 1.40046341e-09 -3.82653834e-06  4.81863473e-03  1.55846423e-01]\n"
     ]
    }
   ],
   "source": [
    "# Fitting Linear Regression to the dataset \n",
    "PossAnswer = np.polyfit(Length, PCratio, 3)\n",
    "print(PossAnswer)\n",
    "f = np.poly1d(PossAnswer)"
   ]
  },
  {
   "cell_type": "code",
   "execution_count": 17,
   "metadata": {},
   "outputs": [
    {
     "name": "stdout",
     "output_type": "stream",
     "text": [
      "[ 200.          252.63157895  305.26315789  357.89473684  410.52631579\n",
      "  463.15789474  515.78947368  568.42105263  621.05263158  673.68421053\n",
      "  726.31578947  778.94736842  831.57894737  884.21052632  936.84210526\n",
      "  989.47368421 1042.10526316 1094.73684211 1147.36842105 1200.        ]\n"
     ]
    }
   ],
   "source": [
    "#creating new x and y with the polyfit array\n",
    "x_new = np.linspace(200, 1200, 20)\n",
    "print(x_new)\n",
    "y_new = f(x_new)"
   ]
  },
  {
   "cell_type": "code",
   "execution_count": 29,
   "metadata": {},
   "outputs": [
    {
     "data": {
      "image/png": "[encoded data removed]",
      "text/plain": [
       "<Figure size 432x288 with 1 Axes>"
      ]
     },
     "metadata": {
      "needs_background": "light"
     },
     "output_type": "display_data"
    }
   ],
   "source": [
    "#creating range for x and y\n",
    "x = range(200, 1200)\n",
    "y = range(0, 5)\n",
    "#plotting figure and adding in subplot ability so more than one set of data can be inputed\n",
    "fig = plt.figure()\n",
    "ax1 = fig.add_subplot(111)\n",
    "#first\n",
    "ax1.scatter(Length, PCratio, s=10, c='b', marker=\"s\", label='All Ships')\n",
    "ax1.scatter(x_new, y_new, s=10, c='r', marker=\"o\", label='polyfit')\n",
    "ax1.scatter(Carn_Length, Carn_PCratio, s=50, c='g', marker=\"s\", label='Carnival')\n",
    "plt.xlabel('Length of Ship (m)') \n",
    "plt.ylabel('Passengers per Crew') \n",
    "plt.legend(loc='upper left')\n",
    "plt.title('Crew requirements vs Ship Size') \n",
    "plt.show()\n"
   ]
  },
  {
   "cell_type": "code",
   "execution_count": null,
   "metadata": {},
   "outputs": [],
   "source": []
  }
 ],
 "metadata": {
  "kernelspec": {
   "display_name": "Python 3",
   "language": "python",
   "name": "python3"
  },
  "language_info": {
   "codemirror_mode": {
    "name": "ipython",
    "version": 3
   },
   "file_extension": ".py",
   "mimetype": "text/x-python",
   "name": "python",
   "nbconvert_exporter": "python",
   "pygments_lexer": "ipython3",
   "version": "3.7.3"
  }
 },
 "nbformat": 4,
 "nbformat_minor": 2
}
